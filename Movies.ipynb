{
 "cells": [
  {
   "cell_type": "code",
   "execution_count": 1,
   "id": "dc999e31",
   "metadata": {},
   "outputs": [],
   "source": [
    "import sqlite3"
   ]
  },
  {
   "cell_type": "code",
   "execution_count": 10,
   "id": "751e529e",
   "metadata": {},
   "outputs": [],
   "source": [
    "con = sqlite3.connect(\"movies.db\")"
   ]
  },
  {
   "cell_type": "code",
   "execution_count": 11,
   "id": "2f0f0ffb",
   "metadata": {},
   "outputs": [],
   "source": [
    "c = con.cursor()"
   ]
  },
  {
   "cell_type": "code",
   "execution_count": 23,
   "id": "07f17eef",
   "metadata": {},
   "outputs": [],
   "source": [
    "#c.execute(\"\"\"CREATE TABLE movies (\n",
    "#                movies TEXT, \n",
    "#                lead_actor TEXT, \n",
    "#                actress TEXT, \n",
    "#                year_Of_Release INTEGER, \n",
    "#                director TEXT\n",
    "#       )\"\"\")"
   ]
  },
  {
   "cell_type": "code",
   "execution_count": 13,
   "id": "e3671664",
   "metadata": {},
   "outputs": [],
   "source": [
    "con.commit()"
   ]
  },
  {
   "cell_type": "code",
   "execution_count": 15,
   "id": "efd69096",
   "metadata": {},
   "outputs": [
    {
     "data": {
      "text/plain": [
       "<sqlite3.Cursor at 0x1e29669a3b0>"
      ]
     },
     "execution_count": 15,
     "metadata": {},
     "output_type": "execute_result"
    }
   ],
   "source": [
    "c.execute(\"INSERT INTO movies VALUES('venom','Tom Hardy', 'Michelle Williams', 2018, 'Ruben Fleischer')\")"
   ]
  },
  {
   "cell_type": "code",
   "execution_count": 16,
   "id": "29c0cbdf",
   "metadata": {},
   "outputs": [],
   "source": [
    "con.commit()"
   ]
  },
  {
   "cell_type": "code",
   "execution_count": 18,
   "id": "5cd3c378",
   "metadata": {},
   "outputs": [
    {
     "data": {
      "text/plain": [
       "<sqlite3.Cursor at 0x1e29669a3b0>"
      ]
     },
     "execution_count": 18,
     "metadata": {},
     "output_type": "execute_result"
    }
   ],
   "source": [
    "c.execute(\"INSERT INTO movies VALUES('Golmal','Ajay devgon', 'karina kapoor', 2015, 'Rohit Shetty')\")"
   ]
  },
  {
   "cell_type": "code",
   "execution_count": 19,
   "id": "43a2f059",
   "metadata": {},
   "outputs": [],
   "source": [
    "con.commit()"
   ]
  },
  {
   "cell_type": "code",
   "execution_count": 24,
   "id": "212b8c49",
   "metadata": {},
   "outputs": [
    {
     "name": "stdout",
     "output_type": "stream",
     "text": [
      "[('venom', 'Tom Hardy', 'Michelle Williams', 2018, 'Ruben Fleischer'), ('Golmal', 'Ajay devgon', 'karina kapoor', 2015, 'Rohit Shetty')]\n"
     ]
    }
   ],
   "source": [
    "c.execute(\"SELECT * FROM movies\")\n",
    "print(c.fetchall())"
   ]
  },
  {
   "cell_type": "code",
   "execution_count": 37,
   "id": "4c2c5f4c",
   "metadata": {},
   "outputs": [
    {
     "data": {
      "text/plain": [
       "<sqlite3.Cursor at 0x1e29669a3b0>"
      ]
     },
     "execution_count": 37,
     "metadata": {},
     "output_type": "execute_result"
    }
   ],
   "source": [
    "c.execute(\"SELECT movies FROM movies\")"
   ]
  },
  {
   "cell_type": "code",
   "execution_count": 39,
   "id": "c3c3fa29",
   "metadata": {},
   "outputs": [
    {
     "name": "stdout",
     "output_type": "stream",
     "text": [
      "('venom', 'Tom Hardy', 'Michelle Williams', 2018, 'Ruben Fleischer')\n",
      "('Golmal', 'Ajay devgon', 'karina kapoor', 2015, 'Rohit Shetty')\n"
     ]
    }
   ],
   "source": [
    "for i in c.execute(\"SELECT * FROM movies\"):\n",
    "    print(i)"
   ]
  },
  {
   "cell_type": "code",
   "execution_count": 40,
   "id": "248a3ada",
   "metadata": {},
   "outputs": [],
   "source": [
    "c.execute(\"INSERT INTO movies VALUES('Baahubali','Prabhas', 'Tamannaah', 2015, 'S S rajamouli')\")\n",
    "con.commit()"
   ]
  },
  {
   "cell_type": "code",
   "execution_count": 41,
   "id": "f4ab2e8a",
   "metadata": {},
   "outputs": [
    {
     "name": "stdout",
     "output_type": "stream",
     "text": [
      "('venom', 'Tom Hardy', 'Michelle Williams', 2018, 'Ruben Fleischer')\n",
      "('Golmal', 'Ajay devgon', 'karina kapoor', 2015, 'Rohit Shetty')\n",
      "('Baahubali', 'Prabhas', 'Tamannaah', 2015, 'S S rajamouli')\n"
     ]
    }
   ],
   "source": [
    "for i in c.execute(\"SELECT * FROM movies\"):\n",
    "    print(i)"
   ]
  },
  {
   "cell_type": "code",
   "execution_count": null,
   "id": "6ea5a12b",
   "metadata": {},
   "outputs": [],
   "source": []
  }
 ],
 "metadata": {
  "kernelspec": {
   "display_name": "Python 3",
   "language": "python",
   "name": "python3"
  },
  "language_info": {
   "codemirror_mode": {
    "name": "ipython",
    "version": 3
   },
   "file_extension": ".py",
   "mimetype": "text/x-python",
   "name": "python",
   "nbconvert_exporter": "python",
   "pygments_lexer": "ipython3",
   "version": "3.8.8"
  }
 },
 "nbformat": 4,
 "nbformat_minor": 5
}
